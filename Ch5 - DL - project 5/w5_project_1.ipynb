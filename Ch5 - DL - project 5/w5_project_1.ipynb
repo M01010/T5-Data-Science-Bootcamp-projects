{
 "nbformat": 4,
 "nbformat_minor": 0,
 "metadata": {
  "colab": {
   "provenance": []
  },
  "kernelspec": {
   "name": "python3",
   "display_name": "Python 3 (ipykernel)",
   "language": "python"
  },
  "language_info": {
   "name": "python"
  }
 },
 "cells": [
  {
   "cell_type": "markdown",
   "source": [
    "**imports**"
   ],
   "metadata": {
    "id": "1WCrgou8uApo"
   }
  },
  {
   "cell_type": "code",
   "metadata": {
    "id": "pbEKPtgAtp_D",
    "ExecuteTime": {
     "end_time": "2024-04-28T21:32:47.751754Z",
     "start_time": "2024-04-28T21:32:45.829215Z"
    }
   },
   "source": [
    "import pandas as pd\n",
    "import numpy as np\n",
    "import tensorflow as tf\n",
    "import seaborn as sns\n",
    "import matplotlib.pyplot as plt\n",
    "from tensorflow.keras.datasets import mnist\n",
    "from tensorflow.keras.utils import to_categorical\n",
    "from sklearn.model_selection import train_test_split"
   ],
   "outputs": [],
   "execution_count": 1
  },
  {
   "cell_type": "markdown",
   "source": [
    "### 1.load data and preprocessing"
   ],
   "metadata": {
    "id": "fNkZjEN4uDMf"
   }
  },
  {
   "cell_type": "markdown",
   "source": [
    "1.1 load_data"
   ],
   "metadata": {
    "id": "YTM3I_G6un-T"
   }
  },
  {
   "cell_type": "code",
   "source": [
    "#loading the data\n",
    "(x_train_full, y_train_full), (x_test, y_test) = mnist.load_data()"
   ],
   "metadata": {
    "id": "Z0WIY293t5VP",
    "ExecuteTime": {
     "end_time": "2024-04-28T21:36:27.508551Z",
     "start_time": "2024-04-28T21:36:27.385579Z"
    }
   },
   "outputs": [],
   "execution_count": 16
  },
  {
   "cell_type": "code",
   "source": [
    "from sklearn.model_selection import train_test_split\n",
    "\n",
    "x_train, x_valid, y_train, y_valid = train_test_split(x_train_full, y_train_full, random_state=42)"
   ],
   "metadata": {
    "colab": {
     "base_uri": "https://localhost:8080/",
     "height": 321
    },
    "id": "-_LEQQYwluYZ",
    "outputId": "06bb120e-d550-4757-d414-0ead35b998f1",
    "ExecuteTime": {
     "end_time": "2024-04-28T21:36:28.437629Z",
     "start_time": "2024-04-28T21:36:28.420815Z"
    }
   },
   "outputs": [],
   "execution_count": 17
  },
  {
   "cell_type": "markdown",
   "source": [
    "1.2 preprocessing"
   ],
   "metadata": {
    "id": "-p8hifEVuqA6"
   }
  },
  {
   "cell_type": "code",
   "source": [
    "# Reshape training data\n",
    "x_train = x_train.reshape(45000, 784).astype('float32')\n",
    "\n",
    "# Reshape validation data\n",
    "x_test = x_test.reshape(10000, 784).astype('float32')\n",
    "\n",
    "# Normalize training data\n",
    "x_train /= 255\n",
    "\n",
    "# Normalize validation data\n",
    "x_test /= 255\n",
    "\n",
    "# Define number of classes\n",
    "n_classes = 10"
   ],
   "metadata": {
    "id": "r5ew8djHuQpH",
    "ExecuteTime": {
     "end_time": "2024-04-28T21:36:49.276741Z",
     "start_time": "2024-04-28T21:36:49.237063Z"
    }
   },
   "outputs": [],
   "execution_count": 21
  },
  {
   "cell_type": "code",
   "source": [
    "y_train"
   ],
   "metadata": {
    "colab": {
     "base_uri": "https://localhost:8080/"
    },
    "id": "eLeuDRKw3jXy",
    "outputId": "be82272d-ff92-40f5-fc54-1dd3d223af5f",
    "ExecuteTime": {
     "end_time": "2024-04-28T21:37:15.027340Z",
     "start_time": "2024-04-28T21:37:15.022250Z"
    }
   },
   "outputs": [
    {
     "data": {
      "text/plain": [
       "array([0, 1, 1, ..., 0, 0, 4], dtype=uint8)"
      ]
     },
     "execution_count": 22,
     "metadata": {},
     "output_type": "execute_result"
    }
   ],
   "execution_count": 22
  },
  {
   "cell_type": "markdown",
   "source": [
    "### 2.Baseline Model with Traditional Machine Learning Algorithms"
   ],
   "metadata": {
    "id": "1a1jVa-yvkD4"
   }
  },
  {
   "cell_type": "markdown",
   "source": [
    "2.1 implementing a logistic regression algorithm"
   ],
   "metadata": {
    "id": "Io48ZYLb0WAV"
   }
  },
  {
   "cell_type": "code",
   "source": [
    "from sklearn.linear_model import LogisticRegression"
   ],
   "metadata": {
    "id": "34mZ-U0SujRC",
    "ExecuteTime": {
     "end_time": "2024-04-28T21:37:17.224509Z",
     "start_time": "2024-04-28T21:37:17.057734Z"
    }
   },
   "outputs": [],
   "execution_count": 23
  },
  {
   "cell_type": "code",
   "source": "log_reg = LogisticRegression(random_state=42)",
   "metadata": {
    "id": "_5S_Q0Rr1-7s",
    "ExecuteTime": {
     "end_time": "2024-04-28T21:39:33.618219Z",
     "start_time": "2024-04-28T21:39:33.615155Z"
    }
   },
   "outputs": [],
   "execution_count": 30
  },
  {
   "cell_type": "code",
   "source": [
    "log_reg.fit(x_train, y_train)"
   ],
   "metadata": {
    "colab": {
     "base_uri": "https://localhost:8080/",
     "height": 213
    },
    "id": "XT3PvS6h2khk",
    "outputId": "7b9b0286-118a-4969-aa07-5e3f962b8f00",
    "ExecuteTime": {
     "end_time": "2024-04-28T21:39:36.556403Z",
     "start_time": "2024-04-28T21:39:34.506157Z"
    }
   },
   "outputs": [
    {
     "name": "stderr",
     "output_type": "stream",
     "text": [
      "C:\\Users\\Mo\\.conda\\envs\\ml\\Lib\\site-packages\\sklearn\\linear_model\\_logistic.py:460: ConvergenceWarning: lbfgs failed to converge (status=1):\n",
      "STOP: TOTAL NO. of ITERATIONS REACHED LIMIT.\n",
      "\n",
      "Increase the number of iterations (max_iter) or scale the data as shown in:\n",
      "    https://scikit-learn.org/stable/modules/preprocessing.html\n",
      "Please also refer to the documentation for alternative solver options:\n",
      "    https://scikit-learn.org/stable/modules/linear_model.html#logistic-regression\n",
      "  n_iter_i = _check_optimize_result(\n"
     ]
    },
    {
     "data": {
      "text/plain": [
       "LogisticRegression(random_state=42)"
      ],
      "text/html": [
       "<style>#sk-container-id-2 {color: black;}#sk-container-id-2 pre{padding: 0;}#sk-container-id-2 div.sk-toggleable {background-color: white;}#sk-container-id-2 label.sk-toggleable__label {cursor: pointer;display: block;width: 100%;margin-bottom: 0;padding: 0.3em;box-sizing: border-box;text-align: center;}#sk-container-id-2 label.sk-toggleable__label-arrow:before {content: \"▸\";float: left;margin-right: 0.25em;color: #696969;}#sk-container-id-2 label.sk-toggleable__label-arrow:hover:before {color: black;}#sk-container-id-2 div.sk-estimator:hover label.sk-toggleable__label-arrow:before {color: black;}#sk-container-id-2 div.sk-toggleable__content {max-height: 0;max-width: 0;overflow: hidden;text-align: left;background-color: #f0f8ff;}#sk-container-id-2 div.sk-toggleable__content pre {margin: 0.2em;color: black;border-radius: 0.25em;background-color: #f0f8ff;}#sk-container-id-2 input.sk-toggleable__control:checked~div.sk-toggleable__content {max-height: 200px;max-width: 100%;overflow: auto;}#sk-container-id-2 input.sk-toggleable__control:checked~label.sk-toggleable__label-arrow:before {content: \"▾\";}#sk-container-id-2 div.sk-estimator input.sk-toggleable__control:checked~label.sk-toggleable__label {background-color: #d4ebff;}#sk-container-id-2 div.sk-label input.sk-toggleable__control:checked~label.sk-toggleable__label {background-color: #d4ebff;}#sk-container-id-2 input.sk-hidden--visually {border: 0;clip: rect(1px 1px 1px 1px);clip: rect(1px, 1px, 1px, 1px);height: 1px;margin: -1px;overflow: hidden;padding: 0;position: absolute;width: 1px;}#sk-container-id-2 div.sk-estimator {font-family: monospace;background-color: #f0f8ff;border: 1px dotted black;border-radius: 0.25em;box-sizing: border-box;margin-bottom: 0.5em;}#sk-container-id-2 div.sk-estimator:hover {background-color: #d4ebff;}#sk-container-id-2 div.sk-parallel-item::after {content: \"\";width: 100%;border-bottom: 1px solid gray;flex-grow: 1;}#sk-container-id-2 div.sk-label:hover label.sk-toggleable__label {background-color: #d4ebff;}#sk-container-id-2 div.sk-serial::before {content: \"\";position: absolute;border-left: 1px solid gray;box-sizing: border-box;top: 0;bottom: 0;left: 50%;z-index: 0;}#sk-container-id-2 div.sk-serial {display: flex;flex-direction: column;align-items: center;background-color: white;padding-right: 0.2em;padding-left: 0.2em;position: relative;}#sk-container-id-2 div.sk-item {position: relative;z-index: 1;}#sk-container-id-2 div.sk-parallel {display: flex;align-items: stretch;justify-content: center;background-color: white;position: relative;}#sk-container-id-2 div.sk-item::before, #sk-container-id-2 div.sk-parallel-item::before {content: \"\";position: absolute;border-left: 1px solid gray;box-sizing: border-box;top: 0;bottom: 0;left: 50%;z-index: -1;}#sk-container-id-2 div.sk-parallel-item {display: flex;flex-direction: column;z-index: 1;position: relative;background-color: white;}#sk-container-id-2 div.sk-parallel-item:first-child::after {align-self: flex-end;width: 50%;}#sk-container-id-2 div.sk-parallel-item:last-child::after {align-self: flex-start;width: 50%;}#sk-container-id-2 div.sk-parallel-item:only-child::after {width: 0;}#sk-container-id-2 div.sk-dashed-wrapped {border: 1px dashed gray;margin: 0 0.4em 0.5em 0.4em;box-sizing: border-box;padding-bottom: 0.4em;background-color: white;}#sk-container-id-2 div.sk-label label {font-family: monospace;font-weight: bold;display: inline-block;line-height: 1.2em;}#sk-container-id-2 div.sk-label-container {text-align: center;}#sk-container-id-2 div.sk-container {/* jupyter's `normalize.less` sets `[hidden] { display: none; }` but bootstrap.min.css set `[hidden] { display: none !important; }` so we also need the `!important` here to be able to override the default hidden behavior on the sphinx rendered scikit-learn.org. See: https://github.com/scikit-learn/scikit-learn/issues/21755 */display: inline-block !important;position: relative;}#sk-container-id-2 div.sk-text-repr-fallback {display: none;}</style><div id=\"sk-container-id-2\" class=\"sk-top-container\"><div class=\"sk-text-repr-fallback\"><pre>LogisticRegression(random_state=42)</pre><b>In a Jupyter environment, please rerun this cell to show the HTML representation or trust the notebook. <br />On GitHub, the HTML representation is unable to render, please try loading this page with nbviewer.org.</b></div><div class=\"sk-container\" hidden><div class=\"sk-item\"><div class=\"sk-estimator sk-toggleable\"><input class=\"sk-toggleable__control sk-hidden--visually\" id=\"sk-estimator-id-2\" type=\"checkbox\" checked><label for=\"sk-estimator-id-2\" class=\"sk-toggleable__label sk-toggleable__label-arrow\">LogisticRegression</label><div class=\"sk-toggleable__content\"><pre>LogisticRegression(random_state=42)</pre></div></div></div></div></div>"
      ]
     },
     "execution_count": 31,
     "metadata": {},
     "output_type": "execute_result"
    }
   ],
   "execution_count": 31
  },
  {
   "cell_type": "markdown",
   "source": [
    "2.2 Evaluate the model performance"
   ],
   "metadata": {
    "id": "rW3XQwBFlBjx"
   }
  },
  {
   "cell_type": "code",
   "source": "log_reg.score(x_test, y_test)",
   "metadata": {
    "id": "3B5WnjA-2n0r",
    "ExecuteTime": {
     "end_time": "2024-04-28T21:39:36.576840Z",
     "start_time": "2024-04-28T21:39:36.556953Z"
    }
   },
   "outputs": [
    {
     "data": {
      "text/plain": [
       "0.9241"
      ]
     },
     "execution_count": 32,
     "metadata": {},
     "output_type": "execute_result"
    }
   ],
   "execution_count": 32
  },
  {
   "metadata": {},
   "cell_type": "markdown",
   "source": "Logistic Regression Score: **92.4%**"
  },
  {
   "metadata": {},
   "cell_type": "markdown",
   "source": "### 3. Ensemble of Machine Learning Algorithms"
  },
  {
   "metadata": {
    "ExecuteTime": {
     "end_time": "2024-04-28T21:55:52.385126Z",
     "start_time": "2024-04-28T21:55:52.381062Z"
    }
   },
   "cell_type": "code",
   "source": [
    "from sklearn.tree import DecisionTreeClassifier\n",
    "from sklearn.ensemble import RandomForestClassifier, VotingClassifier\n",
    "from sklearn.svm import SVC\n",
    "\n",
    "models = [\n",
    "    ('a', DecisionTreeClassifier(random_state=42)),\n",
    "    ('b', RandomForestClassifier(random_state=42)),\n",
    "    ('c', SVC(random_state=42))\n",
    "]\n",
    "\n",
    "voting_clf = VotingClassifier(models, n_jobs=-1)"
   ],
   "outputs": [],
   "execution_count": 37
  },
  {
   "metadata": {
    "ExecuteTime": {
     "end_time": "2024-04-28T21:55:53.675857Z",
     "start_time": "2024-04-28T21:55:53.657056Z"
    }
   },
   "cell_type": "code",
   "source": "voting_clf.fit(x_train, y_train)",
   "outputs": [
    {
     "ename": "TypeError",
     "evalue": "VotingClassifier.fit() got an unexpected keyword argument 'n_jobs'",
     "output_type": "error",
     "traceback": [
      "\u001B[1;31m---------------------------------------------------------------------------\u001B[0m",
      "\u001B[1;31mTypeError\u001B[0m                                 Traceback (most recent call last)",
      "Cell \u001B[1;32mIn[38], line 1\u001B[0m\n\u001B[1;32m----> 1\u001B[0m voting_clf\u001B[38;5;241m.\u001B[39mfit(x_train, y_train, n_jobs\u001B[38;5;241m=\u001B[39m\u001B[38;5;241m-\u001B[39m\u001B[38;5;241m1\u001B[39m)\n",
      "File \u001B[1;32m~\\.conda\\envs\\ml\\Lib\\site-packages\\sklearn\\base.py:1151\u001B[0m, in \u001B[0;36m_fit_context.<locals>.decorator.<locals>.wrapper\u001B[1;34m(estimator, *args, **kwargs)\u001B[0m\n\u001B[0;32m   1144\u001B[0m     estimator\u001B[38;5;241m.\u001B[39m_validate_params()\n\u001B[0;32m   1146\u001B[0m \u001B[38;5;28;01mwith\u001B[39;00m config_context(\n\u001B[0;32m   1147\u001B[0m     skip_parameter_validation\u001B[38;5;241m=\u001B[39m(\n\u001B[0;32m   1148\u001B[0m         prefer_skip_nested_validation \u001B[38;5;129;01mor\u001B[39;00m global_skip_validation\n\u001B[0;32m   1149\u001B[0m     )\n\u001B[0;32m   1150\u001B[0m ):\n\u001B[1;32m-> 1151\u001B[0m     \u001B[38;5;28;01mreturn\u001B[39;00m fit_method(estimator, \u001B[38;5;241m*\u001B[39margs, \u001B[38;5;241m*\u001B[39m\u001B[38;5;241m*\u001B[39mkwargs)\n",
      "\u001B[1;31mTypeError\u001B[0m: VotingClassifier.fit() got an unexpected keyword argument 'n_jobs'"
     ]
    }
   ],
   "execution_count": 38
  },
  {
   "metadata": {
    "ExecuteTime": {
     "end_time": "2024-04-28T21:53:54.738326Z",
     "start_time": "2024-04-28T21:53:14.044224Z"
    }
   },
   "cell_type": "code",
   "source": "voting_clf.score(x_test, y_test)",
   "outputs": [
    {
     "data": {
      "text/plain": [
       "0.9699"
      ]
     },
     "execution_count": 36,
     "metadata": {},
     "output_type": "execute_result"
    }
   ],
   "execution_count": 36
  },
  {
   "metadata": {},
   "cell_type": "markdown",
   "source": "Voting Ensemble Score: 97%"
  },
  {
   "metadata": {},
   "cell_type": "markdown",
   "source": "### 4. Neural Network Model Design"
  },
  {
   "metadata": {
    "ExecuteTime": {
     "end_time": "2024-04-28T22:28:30.290080Z",
     "start_time": "2024-04-28T22:28:30.147014Z"
    }
   },
   "cell_type": "code",
   "source": [
    "\n",
    "(x_train_full, y_train_full), (x_test, y_test) = tf.keras.datasets.mnist.load_data()\n",
    "x_train, x_valid, y_train, y_valid = train_test_split(x_train_full, y_train_full, random_state=42)"
   ],
   "outputs": [],
   "execution_count": 104
  },
  {
   "metadata": {
    "ExecuteTime": {
     "end_time": "2024-04-28T22:28:33.541725Z",
     "start_time": "2024-04-28T22:28:33.477051Z"
    }
   },
   "cell_type": "code",
   "source": [
    "x_train = x_train.astype('float64')\n",
    "x_test = x_test.astype('float64')\n",
    "x_valid = x_valid.astype('float64')"
   ],
   "outputs": [],
   "execution_count": 105
  },
  {
   "metadata": {
    "ExecuteTime": {
     "end_time": "2024-04-28T22:28:33.944651Z",
     "start_time": "2024-04-28T22:28:33.917215Z"
    }
   },
   "cell_type": "code",
   "source": [
    "x_train /= 255.0\n",
    "x_test /= 255.0\n",
    "x_valid /= 255.0"
   ],
   "outputs": [],
   "execution_count": 106
  },
  {
   "metadata": {
    "ExecuteTime": {
     "end_time": "2024-04-28T22:28:34.472734Z",
     "start_time": "2024-04-28T22:28:34.469123Z"
    }
   },
   "cell_type": "code",
   "source": "x_train.shape",
   "outputs": [
    {
     "data": {
      "text/plain": [
       "(45000, 28, 28)"
      ]
     },
     "execution_count": 107,
     "metadata": {},
     "output_type": "execute_result"
    }
   ],
   "execution_count": 107
  },
  {
   "metadata": {
    "ExecuteTime": {
     "end_time": "2024-04-28T22:34:21.523555Z",
     "start_time": "2024-04-28T22:34:02.997810Z"
    }
   },
   "cell_type": "code",
   "source": [
    "model = tf.keras.models.Sequential([\n",
    "    tf.keras.layers.Flatten(input_shape=(28, 28)),\n",
    "    tf.keras.layers.Dense(300, activation='relu'),\n",
    "    tf.keras.layers.Dense(100, activation='relu'),\n",
    "    tf.keras.layers.Dense(10, activation='softmax')\n",
    "])\n",
    "optimizer = tf.keras.optimizers.Adam(learning_rate=1e-3)\n",
    "model.compile(optimizer=optimizer, loss='sparse_categorical_crossentropy', metrics=['accuracy'])\n",
    "\n",
    "model.fit(x_train, y_train, epochs=10, validation_data=(x_valid, y_valid))"
   ],
   "outputs": [
    {
     "name": "stdout",
     "output_type": "stream",
     "text": [
      "Epoch 1/10\n",
      "\u001B[1m1407/1407\u001B[0m \u001B[32m━━━━━━━━━━━━━━━━━━━━\u001B[0m\u001B[37m\u001B[0m \u001B[1m2s\u001B[0m 1ms/step - accuracy: 0.8806 - loss: 0.4048 - val_accuracy: 0.9568 - val_loss: 0.1443\n",
      "Epoch 2/10\n",
      "\u001B[1m1407/1407\u001B[0m \u001B[32m━━━━━━━━━━━━━━━━━━━━\u001B[0m\u001B[37m\u001B[0m \u001B[1m2s\u001B[0m 1ms/step - accuracy: 0.9703 - loss: 0.0975 - val_accuracy: 0.9717 - val_loss: 0.0942\n",
      "Epoch 3/10\n",
      "\u001B[1m1407/1407\u001B[0m \u001B[32m━━━━━━━━━━━━━━━━━━━━\u001B[0m\u001B[37m\u001B[0m \u001B[1m2s\u001B[0m 1ms/step - accuracy: 0.9809 - loss: 0.0610 - val_accuracy: 0.9699 - val_loss: 0.0943\n",
      "Epoch 4/10\n",
      "\u001B[1m1407/1407\u001B[0m \u001B[32m━━━━━━━━━━━━━━━━━━━━\u001B[0m\u001B[37m\u001B[0m \u001B[1m2s\u001B[0m 1ms/step - accuracy: 0.9862 - loss: 0.0409 - val_accuracy: 0.9735 - val_loss: 0.0920\n",
      "Epoch 5/10\n",
      "\u001B[1m1407/1407\u001B[0m \u001B[32m━━━━━━━━━━━━━━━━━━━━\u001B[0m\u001B[37m\u001B[0m \u001B[1m2s\u001B[0m 1ms/step - accuracy: 0.9893 - loss: 0.0334 - val_accuracy: 0.9766 - val_loss: 0.0840\n",
      "Epoch 6/10\n",
      "\u001B[1m1407/1407\u001B[0m \u001B[32m━━━━━━━━━━━━━━━━━━━━\u001B[0m\u001B[37m\u001B[0m \u001B[1m2s\u001B[0m 1ms/step - accuracy: 0.9916 - loss: 0.0269 - val_accuracy: 0.9727 - val_loss: 0.1071\n",
      "Epoch 7/10\n",
      "\u001B[1m1407/1407\u001B[0m \u001B[32m━━━━━━━━━━━━━━━━━━━━\u001B[0m\u001B[37m\u001B[0m \u001B[1m2s\u001B[0m 1ms/step - accuracy: 0.9929 - loss: 0.0210 - val_accuracy: 0.9764 - val_loss: 0.0991\n",
      "Epoch 8/10\n",
      "\u001B[1m1407/1407\u001B[0m \u001B[32m━━━━━━━━━━━━━━━━━━━━\u001B[0m\u001B[37m\u001B[0m \u001B[1m2s\u001B[0m 1ms/step - accuracy: 0.9937 - loss: 0.0182 - val_accuracy: 0.9724 - val_loss: 0.1140\n",
      "Epoch 9/10\n",
      "\u001B[1m1407/1407\u001B[0m \u001B[32m━━━━━━━━━━━━━━━━━━━━\u001B[0m\u001B[37m\u001B[0m \u001B[1m2s\u001B[0m 1ms/step - accuracy: 0.9959 - loss: 0.0129 - val_accuracy: 0.9757 - val_loss: 0.1065\n",
      "Epoch 10/10\n",
      "\u001B[1m1407/1407\u001B[0m \u001B[32m━━━━━━━━━━━━━━━━━━━━\u001B[0m\u001B[37m\u001B[0m \u001B[1m2s\u001B[0m 1ms/step - accuracy: 0.9940 - loss: 0.0171 - val_accuracy: 0.9758 - val_loss: 0.1139\n"
     ]
    },
    {
     "data": {
      "text/plain": [
       "<keras.src.callbacks.history.History at 0x2bf150cb810>"
      ]
     },
     "execution_count": 122,
     "metadata": {},
     "output_type": "execute_result"
    }
   ],
   "execution_count": 122
  },
  {
   "metadata": {
    "ExecuteTime": {
     "end_time": "2024-04-28T22:34:21.765932Z",
     "start_time": "2024-04-28T22:34:21.524068Z"
    }
   },
   "cell_type": "code",
   "source": "model.evaluate(x_test, y_test)",
   "outputs": [
    {
     "name": "stdout",
     "output_type": "stream",
     "text": [
      "\u001B[1m313/313\u001B[0m \u001B[32m━━━━━━━━━━━━━━━━━━━━\u001B[0m\u001B[37m\u001B[0m \u001B[1m0s\u001B[0m 599us/step - accuracy: 0.9702 - loss: 0.1278\n"
     ]
    },
    {
     "data": {
      "text/plain": [
       "[0.11115114390850067, 0.9746000170707703]"
      ]
     },
     "execution_count": 123,
     "metadata": {},
     "output_type": "execute_result"
    }
   ],
   "execution_count": 123
  },
  {
   "metadata": {
    "ExecuteTime": {
     "end_time": "2024-04-28T22:34:22.734391Z",
     "start_time": "2024-04-28T22:34:21.766951Z"
    }
   },
   "cell_type": "code",
   "source": "model.evaluate(x_train, y_train)",
   "outputs": [
    {
     "name": "stdout",
     "output_type": "stream",
     "text": [
      "\u001B[1m1407/1407\u001B[0m \u001B[32m━━━━━━━━━━━━━━━━━━━━\u001B[0m\u001B[37m\u001B[0m \u001B[1m1s\u001B[0m 621us/step - accuracy: 0.9950 - loss: 0.0159\n"
     ]
    },
    {
     "data": {
      "text/plain": [
       "[0.015660259872674942, 0.9949555397033691]"
      ]
     },
     "execution_count": 124,
     "metadata": {},
     "output_type": "execute_result"
    }
   ],
   "execution_count": 124
  },
  {
   "metadata": {},
   "cell_type": "markdown",
   "source": [
    "2 hidden layers, 300, 100 neurons NN Evaluation test: 97.8% train: 99.6% \\n\n",
    "3 hidden layers, 300, 300, 100 neurons NN Evaluation test: 94.8% train: 97.9%\n"
   ]
  },
  {
   "metadata": {
    "ExecuteTime": {
     "end_time": "2024-04-28T22:40:00.324231Z",
     "start_time": "2024-04-28T22:40:00.320171Z"
    }
   },
   "cell_type": "code",
   "source": [
    "import keras_tuner as kt\n",
    "\n",
    "\n",
    "def build_model(hp, batch=False):\n",
    "    with tf.device('/device:gpu:0'):\n",
    "        n_hidden = hp.Int(\"n_hidden\", min_value=0, max_value=5, default=2)\n",
    "        n_neurons = hp.Int(\"n_neurons\", min_value=16, max_value=280)\n",
    "        learning_rate = hp.Float(\"learning_rate\", min_value=1e-4, max_value=1e-2,\n",
    "                                 sampling=\"log\")\n",
    "\n",
    "        optimizer = tf.keras.optimizers.Adam(learning_rate=learning_rate, beta_1=0.9,\n",
    "                                             beta_2=0.999, epsilon=1e-8)\n",
    "\n",
    "        model = tf.keras.Sequential()\n",
    "\n",
    "        model.add(tf.keras.layers.Flatten(input_shape=(28, 28)))\n",
    "        if batch:\n",
    "            model.add(tf.keras.layers.BatchNormalization())\n",
    "        for _ in range(n_hidden):\n",
    "            model.add(tf.keras.layers.Dense(n_neurons, activation=\"relu\"))\n",
    "\n",
    "        model.add(tf.keras.layers.Dense(10, activation='softmax'))\n",
    "        model.compile(loss=\"sparse_categorical_crossentropy\", optimizer=optimizer, metrics=[\"accuracy\"])\n",
    "        return model"
   ],
   "outputs": [],
   "execution_count": 126
  },
  {
   "metadata": {},
   "cell_type": "code",
   "source": [
    "from keras_tuner import GridSearch, RandomSearch\n",
    "\n",
    "random_search_tuner = kt.RandomSearch(\n",
    "    build_model, objective=\"val_accuracy\", max_trials=3, overwrite=True,\n",
    "    directory=\"trails_list\", project_name=\"my_rnd_search\", seed=42)\n",
    "\n",
    "random_search_tuner.search(x_train, y_train, epochs=10,\n",
    "                           validation_data=(x_valid, y_valid))\n"
   ],
   "execution_count": 127,
   "outputs": [
    {
     "name": "stdout",
     "output_type": "stream",
     "text": [
      "Trial 5 Complete [00h 00m 26s]\n",
      "val_accuracy: 0.9564666748046875\n",
      "\n",
      "Best val_accuracy So Far: 0.9802666902542114\n",
      "Total elapsed time: 00h 02m 41s\n"
     ]
    }
   ]
  },
  {
   "metadata": {
    "ExecuteTime": {
     "end_time": "2024-04-28T22:44:31.938567Z",
     "start_time": "2024-04-28T22:44:31.935978Z"
    }
   },
   "cell_type": "code",
   "source": [
    "best_trial = random_search_tuner.oracle.get_best_trials(num_trials=1)[0]\n",
    "best_trial.summary()"
   ],
   "outputs": [
    {
     "name": "stdout",
     "output_type": "stream",
     "text": [
      "Trial 1 summary\n",
      "Hyperparameters:\n",
      "n_hidden: 1\n",
      "n_neurons: 251\n",
      "learning_rate: 0.000505466655750672\n",
      "Score: 0.9802666902542114\n"
     ]
    }
   ],
   "execution_count": 128
  },
  {
   "metadata": {},
   "cell_type": "code",
   "outputs": [],
   "execution_count": null,
   "source": ""
  }
 ]
}
